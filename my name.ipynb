{
 "cells": [
  {
   "cell_type": "code",
   "execution_count": 3,
   "id": "42205d34",
   "metadata": {},
   "outputs": [],
   "source": [
    "### print(\"Hello World\")\n",
    "\n",
    "# Zidane Alivio Suko Panuntun\n",
    "\n",
    "## 20/462160/PA/20132\n",
    "\n",
    "## Geofisika 2020\n"
   ]
  },
  {
   "cell_type": "code",
   "execution_count": 4,
   "id": "2925ddf4",
   "metadata": {},
   "outputs": [],
   "source": [
    "#/==================================/\n",
    "#                                   /           \n",
    "#          Program halo.py          /\n",
    "#    by zidane.a.s@mail.ugm.ac.id   /\n",
    "#                                   /\n",
    "#/==================================/ "
   ]
  },
  {
   "cell_type": "code",
   "execution_count": null,
   "id": "5434e779",
   "metadata": {},
   "outputs": [],
   "source": []
  },
  {
   "cell_type": "code",
   "execution_count": null,
   "id": "aa988382",
   "metadata": {},
   "outputs": [],
   "source": []
  }
 ],
 "metadata": {
  "kernelspec": {
   "display_name": "Python 3",
   "language": "python",
   "name": "python3"
  },
  "language_info": {
   "codemirror_mode": {
    "name": "ipython",
    "version": 3
   },
   "file_extension": ".py",
   "mimetype": "text/x-python",
   "name": "python",
   "nbconvert_exporter": "python",
   "pygments_lexer": "ipython3",
   "version": "3.9.4"
  }
 },
 "nbformat": 4,
 "nbformat_minor": 5
}
